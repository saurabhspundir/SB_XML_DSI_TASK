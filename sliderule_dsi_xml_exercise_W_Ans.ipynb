{
 "cells": [
  {
   "cell_type": "markdown",
   "metadata": {},
   "source": [
    "# XML Springboard mondial exercise\n",
    "****\n",
    "+ reading data from world bank sample XML file\n",
    "+ utilize xml.etree to read data from xml   \n",
    "+ utilize numpy to read data in data frame   \n",
    "+ undestand the data from file  \n",
    "+ work on exercise to be completed and submit\n",
    "****\n",
    "+ reference: https://docs.python.org/2.7/library/xml.etree.elementtree.html\n",
    "+ data source: http://www.dbis.informatik.uni-goettingen.de/Mondial\n",
    "****"
   ]
  },
  {
   "cell_type": "code",
   "execution_count": 1,
   "metadata": {
    "collapsed": true
   },
   "outputs": [],
   "source": [
    "from xml.etree import ElementTree as ET\n",
    "import pandas as pd\n",
    "import numpy as np"
   ]
  },
  {
   "cell_type": "markdown",
   "metadata": {},
   "source": [
    "## Import the libararies\n"
   ]
  },
  {
   "cell_type": "code",
   "execution_count": 2,
   "metadata": {
    "collapsed": true
   },
   "outputs": [],
   "source": [
    "from xml.etree import ElementTree as ET\n",
    "import pandas as pd\n",
    "import numpy as np"
   ]
  },
  {
   "cell_type": "markdown",
   "metadata": {},
   "source": [
    "****\n",
    "## Load world bank XML  file\n",
    "+ read XML file using xml.etree "
   ]
  },
  {
   "cell_type": "code",
   "execution_count": 3,
   "metadata": {
    "collapsed": true
   },
   "outputs": [],
   "source": [
    "# document tree is having XMl data from file\n",
    "document_tree = ET.parse( './data/mondial_database.xml' )"
   ]
  },
  {
   "cell_type": "markdown",
   "metadata": {},
   "source": [
    "****\n",
    "## XML exercise\n",
    "\n",
    "The questionUsing data in file 'data/mondial_database.xml' and the techniques demonstrated above,\n",
    "1. 10 countries with the lowest infant mortality rates\n",
    "2. 10 cities with the largest population\n",
    "3. 10 ethnic groups with the largest overall populations (sum of best/latest estimates over all countries)\n",
    "4. name and country of a) longest river, b) largest lake and c) airport at highest elevation"
   ]
  },
  {
   "cell_type": "markdown",
   "metadata": {},
   "source": [
    "1. Find the 10 countries with the lowest infant mortality rates\n",
    "\n",
    "Approach \n",
    "1. Already have data from the file. \n",
    "2. iterate over the country node and build the data in pandas series\n",
    "3. The data is extracted using method find('name'). And country name is in text property\n",
    "4. Once data is in Series , i found that sort not working on infant mortality as it is not int or float\n",
    "5. The getiterator help in handling issue where if tag doesnt exist the error occured\n",
    "6. The data is converted to float as it is decimal type and sorted and filtered\n"
   ]
  },
  {
   "cell_type": "code",
   "execution_count": 26,
   "metadata": {},
   "outputs": [
    {
     "data": {
      "text/plain": [
       "Monaco            1.81\n",
       "Japan             2.13\n",
       "Norway            2.48\n",
       "Bermuda           2.48\n",
       "Singapore         2.53\n",
       "Sweden            2.60\n",
       "Czech Republic    2.63\n",
       "Hong Kong         2.73\n",
       "Macao             3.13\n",
       "Iceland           3.15\n",
       "dtype: float64"
      ]
     },
     "execution_count": 26,
     "metadata": {},
     "output_type": "execute_result"
    }
   ],
   "source": [
    "# 10 countries with lowest mortality\n",
    "# created empty series and dictonary\n",
    "coun_series = pd.Series()\n",
    "dic_coun={}\n",
    "# loop through all the country tags\n",
    "for element in document_tree.iterfind('country'):\n",
    "    capitals_string = ''\n",
    "    # loop through all the infan mortality tags\n",
    "    for subelement in element.getiterator('infant_mortality'):\n",
    "        capitals_string = subelement.text \n",
    "        # add to dictonary\n",
    "        dic_coun[element.find('name').text]=capitals_string\n",
    "\n",
    "# create series from dictonary\n",
    "coun_series= pd.Series(dic_coun)\n",
    "# coverting infant mortality to float & sorting in ascending t get lowest first\n",
    "coun_series=coun_series.apply(np.float).sort_values(ascending=True)\n",
    "# getting only top 10\n",
    "coun_series.head(10)\n"
   ]
  },
  {
   "cell_type": "markdown",
   "metadata": {},
   "source": [
    "2. Find the  10 cities with the largest population\n",
    "3. Find 10 ethnic groups with the largest overall populations (sum of best/latest estimates over all countries)\n",
    "\n",
    "Approach \n",
    "1. Already have data from the file. \n",
    "2. iterate over the country node and build the data in pandas series\n",
    "3. Created methods for reusablity & avoidindg exception\n",
    "4. Extracted data from country node using itertaor, find node.attrib\n",
    "5. Built data frame from further processing using pandas. \n",
    "6. The data is converted to float as it is decimal type and sorted and filtered\n"
   ]
  },
  {
   "cell_type": "code",
   "execution_count": 27,
   "metadata": {
    "collapsed": true
   },
   "outputs": [],
   "source": [
    "# method to chek if the element exist in the node using find\n",
    "def is_element_in_xml(element,child_element):\n",
    "    if element.find(child_element):\n",
    "        return True\n",
    "    else:\n",
    "        return False\n",
    "    "
   ]
  },
  {
   "cell_type": "code",
   "execution_count": 28,
   "metadata": {
    "collapsed": true
   },
   "outputs": [],
   "source": [
    "# method to check if attrib exist in the node.\n",
    "def is_attrib_in_element(element,attrib_name):\n",
    "    if attrib_name in element.attrib:\n",
    "        return True\n",
    "    else:\n",
    "        return False\n"
   ]
  },
  {
   "cell_type": "code",
   "execution_count": 29,
   "metadata": {
    "collapsed": true
   },
   "outputs": [],
   "source": [
    "# method use to cast string to int\n",
    "def cast_element_int(val):\n",
    "    return_val=0\n",
    "    try:\n",
    "        return_val=int(val)\n",
    "    except:\n",
    "        return_val=np.NAN\n",
    "    return return_val\n"
   ]
  },
  {
   "cell_type": "code",
   "execution_count": 30,
   "metadata": {
    "collapsed": true
   },
   "outputs": [],
   "source": [
    "# method use to cast string to float\n",
    "def cast_element_float(val):\n",
    "    return_val=0\n",
    "    try:\n",
    "        return_val=float(val)\n",
    "    except:\n",
    "        return_val=np.NAN\n",
    "    return return_val\n"
   ]
  },
  {
   "cell_type": "code",
   "execution_count": 31,
   "metadata": {
    "collapsed": true
   },
   "outputs": [],
   "source": [
    "#This method use to send the dictonry entry per country ,gives last year population available.\n",
    "#This method is called and gets added in dataframe\n",
    "# This method can be passed country as a param or find out from node if empty. This gives flexbility to resue fro both Q 2 & 3 \n",
    "def find_city_population(ielement,country=''):\n",
    "        for subelement in ielement.iterfind('city'):\n",
    "            val_year =1900\n",
    "            val_population=0\n",
    "            for pinfo in subelement.iterfind('population'):\n",
    "                if is_attrib_in_element(pinfo,'year'):\n",
    "                    t_year=cast_element_int(pinfo.attrib['year'])\n",
    "                    # this comparison allowed to get the max year and its popultaion\n",
    "                    if(t_year>val_year):\n",
    "                        val_year=t_year\n",
    "                        val_population=cast_element_int(pinfo.text)\n",
    "\n",
    "            return{\n",
    "                'country':ielement.find('name').text if(country=='') else country,\n",
    "                #'countrycode':ielement.attrib['car_code']if(is_attrib_in_element(ielement,'car_code')) else '',\n",
    "                'city':subelement.find('name').text,\n",
    "                'year':val_year,\n",
    "                'population':val_population\n",
    "           }\n",
    "            "
   ]
  },
  {
   "cell_type": "code",
   "execution_count": 32,
   "metadata": {
    "collapsed": true
   },
   "outputs": [],
   "source": [
    "#This method use to send the dictonry entry per country ,gives find all ethincity data for country.\n",
    "#This method is called and gets added in dataframe\n",
    "def find_ethinic_population(ielement):\n",
    "        val_population=0\n",
    "        val_year =1900\n",
    "\n",
    "        for subelement in ielement.iterfind('population'):\n",
    "            if is_attrib_in_element(subelement,'year'):\n",
    "                t_year=cast_element_int(subelement.attrib['year'])\n",
    "                if(t_year>val_year):\n",
    "                    val_year=t_year\n",
    "                    val_population=cast_element_float(subelement.text)\n",
    "            \n",
    "        for subelement in ielement.iterfind('ethnicgroup'):\n",
    "            val_ethincity_percent =0\n",
    "            val_ethincity_name=''\n",
    "            if is_attrib_in_element(subelement,'percentage'):\n",
    "                val_ethincity_percent=cast_element_float(subelement.attrib['percentage'])\n",
    "                val_ethincity_name=subelement.text\n",
    "                \n",
    "\n",
    "                return{\n",
    "                    'country':ielement.find('name').text,\n",
    "                    'totalPopulation': val_population,\n",
    "                    'ethincity_name':val_ethincity_name,\n",
    "                    'ethincity_percent':val_ethincity_percent,\n",
    "                    'ethincity_population': (val_ethincity_percent*val_population)/100\n",
    "               }\n",
    "        "
   ]
  },
  {
   "cell_type": "code",
   "execution_count": 33,
   "metadata": {},
   "outputs": [
    {
     "data": {
      "text/html": [
       "<div>\n",
       "<style>\n",
       "    .dataframe thead tr:only-child th {\n",
       "        text-align: right;\n",
       "    }\n",
       "\n",
       "    .dataframe thead th {\n",
       "        text-align: left;\n",
       "    }\n",
       "\n",
       "    .dataframe tbody tr th {\n",
       "        vertical-align: top;\n",
       "    }\n",
       "</style>\n",
       "<table border=\"1\" class=\"dataframe\">\n",
       "  <thead>\n",
       "    <tr style=\"text-align: right;\">\n",
       "      <th></th>\n",
       "      <th>year</th>\n",
       "      <th>city</th>\n",
       "      <th>country</th>\n",
       "      <th>population</th>\n",
       "    </tr>\n",
       "  </thead>\n",
       "  <tbody>\n",
       "    <tr>\n",
       "      <th>589</th>\n",
       "      <td>2010</td>\n",
       "      <td>Shanghai</td>\n",
       "      <td>China</td>\n",
       "      <td>22315474</td>\n",
       "    </tr>\n",
       "    <tr>\n",
       "      <th>410</th>\n",
       "      <td>2012</td>\n",
       "      <td>Istanbul</td>\n",
       "      <td>Turkey</td>\n",
       "      <td>13710512</td>\n",
       "    </tr>\n",
       "    <tr>\n",
       "      <th>691</th>\n",
       "      <td>2011</td>\n",
       "      <td>Mumbai</td>\n",
       "      <td>India</td>\n",
       "      <td>12442373</td>\n",
       "    </tr>\n",
       "    <tr>\n",
       "      <th>237</th>\n",
       "      <td>2013</td>\n",
       "      <td>Moskva</td>\n",
       "      <td>Russia</td>\n",
       "      <td>11979529</td>\n",
       "    </tr>\n",
       "    <tr>\n",
       "      <th>588</th>\n",
       "      <td>2010</td>\n",
       "      <td>Beijing</td>\n",
       "      <td>China</td>\n",
       "      <td>11716620</td>\n",
       "    </tr>\n",
       "    <tr>\n",
       "      <th>1230</th>\n",
       "      <td>2010</td>\n",
       "      <td>São Paulo</td>\n",
       "      <td>Brazil</td>\n",
       "      <td>11152344</td>\n",
       "    </tr>\n",
       "    <tr>\n",
       "      <th>590</th>\n",
       "      <td>2010</td>\n",
       "      <td>Tianjin</td>\n",
       "      <td>China</td>\n",
       "      <td>11090314</td>\n",
       "    </tr>\n",
       "    <tr>\n",
       "      <th>564</th>\n",
       "      <td>2010</td>\n",
       "      <td>Guangzhou</td>\n",
       "      <td>China</td>\n",
       "      <td>11071424</td>\n",
       "    </tr>\n",
       "    <tr>\n",
       "      <th>708</th>\n",
       "      <td>2011</td>\n",
       "      <td>Delhi</td>\n",
       "      <td>India</td>\n",
       "      <td>11034555</td>\n",
       "    </tr>\n",
       "    <tr>\n",
       "      <th>570</th>\n",
       "      <td>2010</td>\n",
       "      <td>Wuhan</td>\n",
       "      <td>China</td>\n",
       "      <td>9785388</td>\n",
       "    </tr>\n",
       "  </tbody>\n",
       "</table>\n",
       "</div>"
      ],
      "text/plain": [
       "      year       city country population\n",
       "589   2010   Shanghai   China   22315474\n",
       "410   2012   Istanbul  Turkey   13710512\n",
       "691   2011     Mumbai   India   12442373\n",
       "237   2013     Moskva  Russia   11979529\n",
       "588   2010    Beijing   China   11716620\n",
       "1230  2010  São Paulo  Brazil   11152344\n",
       "590   2010    Tianjin   China   11090314\n",
       "564   2010  Guangzhou   China   11071424\n",
       "708   2011      Delhi   India   11034555\n",
       "570   2010      Wuhan   China    9785388"
      ]
     },
     "execution_count": 33,
     "metadata": {},
     "output_type": "execute_result"
    }
   ],
   "source": [
    "#2. 10 cities with the largest population\n",
    "df_city_population = pd.DataFrame(columns={'country','city','year','population'})\n",
    "\n",
    "for element in document_tree.iterfind('country'):\n",
    "    df_city_population= df_city_population.append(find_city_population(element),ignore_index=True)\n",
    "    for provelement in element.iterfind('province'):\n",
    "        df_city_population= df_city_population.append(find_city_population(provelement,element.find('name').text),\n",
    "                                                      ignore_index=True)\n",
    "        \n",
    "df_city_population.sort_values(by='population',ascending=False).head(10)"
   ]
  },
  {
   "cell_type": "code",
   "execution_count": 34,
   "metadata": {},
   "outputs": [
    {
     "data": {
      "text/html": [
       "<div>\n",
       "<style>\n",
       "    .dataframe thead tr:only-child th {\n",
       "        text-align: right;\n",
       "    }\n",
       "\n",
       "    .dataframe thead th {\n",
       "        text-align: left;\n",
       "    }\n",
       "\n",
       "    .dataframe tbody tr th {\n",
       "        vertical-align: top;\n",
       "    }\n",
       "</style>\n",
       "<table border=\"1\" class=\"dataframe\">\n",
       "  <thead>\n",
       "    <tr style=\"text-align: right;\">\n",
       "      <th></th>\n",
       "      <th>ethincity_population</th>\n",
       "      <th>ethincity_percent</th>\n",
       "      <th>totalPopulation</th>\n",
       "    </tr>\n",
       "    <tr>\n",
       "      <th>ethincity_name</th>\n",
       "      <th></th>\n",
       "      <th></th>\n",
       "      <th></th>\n",
       "    </tr>\n",
       "  </thead>\n",
       "  <tbody>\n",
       "    <tr>\n",
       "      <th>Han Chinese</th>\n",
       "      <td>1.245059e+09</td>\n",
       "      <td>91.50</td>\n",
       "      <td>1.360720e+09</td>\n",
       "    </tr>\n",
       "    <tr>\n",
       "      <th>European</th>\n",
       "      <td>4.410033e+08</td>\n",
       "      <td>645.92</td>\n",
       "      <td>8.163821e+08</td>\n",
       "    </tr>\n",
       "    <tr>\n",
       "      <th>Dravidian</th>\n",
       "      <td>3.027137e+08</td>\n",
       "      <td>25.00</td>\n",
       "      <td>1.210855e+09</td>\n",
       "    </tr>\n",
       "    <tr>\n",
       "      <th>African</th>\n",
       "      <td>1.986050e+08</td>\n",
       "      <td>1055.60</td>\n",
       "      <td>2.186632e+08</td>\n",
       "    </tr>\n",
       "    <tr>\n",
       "      <th>Bengali</th>\n",
       "      <td>1.467769e+08</td>\n",
       "      <td>98.00</td>\n",
       "      <td>1.497724e+08</td>\n",
       "    </tr>\n",
       "    <tr>\n",
       "      <th>Mestizo</th>\n",
       "      <td>1.419729e+08</td>\n",
       "      <td>783.70</td>\n",
       "      <td>2.251272e+08</td>\n",
       "    </tr>\n",
       "    <tr>\n",
       "      <th>Japanese</th>\n",
       "      <td>1.265342e+08</td>\n",
       "      <td>99.40</td>\n",
       "      <td>1.272980e+08</td>\n",
       "    </tr>\n",
       "    <tr>\n",
       "      <th>Russian</th>\n",
       "      <td>1.146462e+08</td>\n",
       "      <td>79.80</td>\n",
       "      <td>1.436669e+08</td>\n",
       "    </tr>\n",
       "    <tr>\n",
       "      <th>Javanese</th>\n",
       "      <td>1.134560e+08</td>\n",
       "      <td>45.00</td>\n",
       "      <td>2.521245e+08</td>\n",
       "    </tr>\n",
       "    <tr>\n",
       "      <th>German</th>\n",
       "      <td>7.919272e+07</td>\n",
       "      <td>157.80</td>\n",
       "      <td>1.268931e+08</td>\n",
       "    </tr>\n",
       "  </tbody>\n",
       "</table>\n",
       "</div>"
      ],
      "text/plain": [
       "                ethincity_population  ethincity_percent  totalPopulation\n",
       "ethincity_name                                                          \n",
       "Han Chinese             1.245059e+09              91.50     1.360720e+09\n",
       "European                4.410033e+08             645.92     8.163821e+08\n",
       "Dravidian               3.027137e+08              25.00     1.210855e+09\n",
       "African                 1.986050e+08            1055.60     2.186632e+08\n",
       "Bengali                 1.467769e+08              98.00     1.497724e+08\n",
       "Mestizo                 1.419729e+08             783.70     2.251272e+08\n",
       "Japanese                1.265342e+08              99.40     1.272980e+08\n",
       "Russian                 1.146462e+08              79.80     1.436669e+08\n",
       "Javanese                1.134560e+08              45.00     2.521245e+08\n",
       "German                  7.919272e+07             157.80     1.268931e+08"
      ]
     },
     "execution_count": 34,
     "metadata": {},
     "output_type": "execute_result"
    }
   ],
   "source": [
    "#3. 10 ethnic groups with the largest overall populations (sum of best/latest estimates over all countries)\n",
    "# print names of all countries and their cities\n",
    "#2. 10 cities with the largest population\n",
    "df_ethinic_population = pd.DataFrame(columns={'country','totalPopulation','ethincity_name',\n",
    "                                              'ethincity_percent','ethincity_population'})\n",
    "\n",
    "for element in document_tree.iterfind('country'):\n",
    "    df_ethinic_population= df_ethinic_population.append(find_ethinic_population(element),ignore_index=True)\n",
    "\n",
    "    \n",
    "#df_ethinic_population.sort_values(by='ethincity_population',ascending=False).head(10)\n",
    "df_ethinic_population_f=pd.DataFrame(df_ethinic_population.groupby('ethincity_name').sum())\n",
    "df_ethinic_population_f.sort_values(by='ethincity_population',ascending=False).head(10)"
   ]
  },
  {
   "cell_type": "code",
   "execution_count": 35,
   "metadata": {
    "collapsed": true
   },
   "outputs": [],
   "source": [
    "#4.name and country of a) longest river, b) largest lake and c) airport at highest elevation"
   ]
  },
  {
   "cell_type": "markdown",
   "metadata": {},
   "source": [
    "4. name and country of a) longest river, b) largest lake and c) airport at highest elevation\n",
    "\n",
    "Approach \n",
    "1. Already have data from the file. \n",
    "2. iterate over the airport and river node and build the data in pandas series\n",
    "3. Created methods for reusablity & avoidindg exception\n",
    "4. The airport and river has country code . So extracted data from country node to build country and code\n",
    "5. Built data frame from further processing using pandas. \n",
    "6. The two data frame are merged later to get the country from code"
   ]
  },
  {
   "cell_type": "code",
   "execution_count": 36,
   "metadata": {
    "collapsed": true
   },
   "outputs": [],
   "source": [
    "# built a data frame for c\n",
    "df_country = pd.DataFrame(columns={'countrycode','name'})\n",
    "\n",
    "for element in document_tree.iterfind('country'):\n",
    "    if is_attrib_in_element(element,'car_code'):\n",
    "        df_country=df_country.append({\n",
    "           'country':element.find('name').text,\n",
    "           'countrycode': element.attrib['car_code']\n",
    "        },ignore_index=True)"
   ]
  },
  {
   "cell_type": "code",
   "execution_count": 37,
   "metadata": {
    "collapsed": true
   },
   "outputs": [],
   "source": [
    "# Method to send element and propert name to get data frame for that. Can be used to send aiport node and elevation as child node\n",
    "def find_highest(ielement,propertynames):\n",
    "    df_op = pd.DataFrame(columns={'countrycode',propertynames})\n",
    "    \n",
    "    for subelement in document_tree.iterfind(ielement):\n",
    "        if is_attrib_in_element(subelement,'country'):\n",
    "            country_val=subelement.attrib['country']\n",
    "            if(' ' in country_val):\n",
    "                country_val=country_val.partition(' ')[0] \n",
    "            elevation=0\n",
    "            for pinfo in subelement.iterfind(propertynames):\n",
    "                newelevation =cast_element_float(pinfo.text)\n",
    "                #print(pinfo.text)\n",
    "                if elevation < newelevation:\n",
    "                    elevation =newelevation\n",
    "        df_op=df_op.append({\n",
    "            'countrycode':country_val,\n",
    "            'name':subelement.find('name').text,\n",
    "            propertynames:elevation\n",
    "            \n",
    "       },ignore_index=True)\n",
    "    \n",
    "    return df_op"
   ]
  },
  {
   "cell_type": "code",
   "execution_count": 38,
   "metadata": {},
   "outputs": [
    {
     "data": {
      "text/html": [
       "<div>\n",
       "<style>\n",
       "    .dataframe thead tr:only-child th {\n",
       "        text-align: right;\n",
       "    }\n",
       "\n",
       "    .dataframe thead th {\n",
       "        text-align: left;\n",
       "    }\n",
       "\n",
       "    .dataframe tbody tr th {\n",
       "        vertical-align: top;\n",
       "    }\n",
       "</style>\n",
       "<table border=\"1\" class=\"dataframe\">\n",
       "  <thead>\n",
       "    <tr style=\"text-align: right;\">\n",
       "      <th></th>\n",
       "      <th>elevation</th>\n",
       "      <th>countrycode</th>\n",
       "      <th>name_x</th>\n",
       "      <th>name_y</th>\n",
       "      <th>country</th>\n",
       "    </tr>\n",
       "  </thead>\n",
       "  <tbody>\n",
       "    <tr>\n",
       "      <th>80</th>\n",
       "      <td>4063.0</td>\n",
       "      <td>BOL</td>\n",
       "      <td>El Alto Intl</td>\n",
       "      <td>NaN</td>\n",
       "      <td>Bolivia</td>\n",
       "    </tr>\n",
       "  </tbody>\n",
       "</table>\n",
       "</div>"
      ],
      "text/plain": [
       "    elevation countrycode        name_x name_y  country\n",
       "80     4063.0         BOL  El Alto Intl    NaN  Bolivia"
      ]
     },
     "execution_count": 38,
     "metadata": {},
     "output_type": "execute_result"
    }
   ],
   "source": [
    "# fidning highest airport \n",
    "df_hightestairport=find_highest('airport','elevation')\n",
    "df_hightestairport_country= df_hightestairport.merge(df_country, on='countrycode')\n",
    "df_hightestairport_country.sort_values('elevation',ascending=False).head(1)"
   ]
  },
  {
   "cell_type": "code",
   "execution_count": 39,
   "metadata": {},
   "outputs": [
    {
     "data": {
      "text/html": [
       "<div>\n",
       "<style>\n",
       "    .dataframe thead tr:only-child th {\n",
       "        text-align: right;\n",
       "    }\n",
       "\n",
       "    .dataframe thead th {\n",
       "        text-align: left;\n",
       "    }\n",
       "\n",
       "    .dataframe tbody tr th {\n",
       "        vertical-align: top;\n",
       "    }\n",
       "</style>\n",
       "<table border=\"1\" class=\"dataframe\">\n",
       "  <thead>\n",
       "    <tr style=\"text-align: right;\">\n",
       "      <th></th>\n",
       "      <th>length</th>\n",
       "      <th>countrycode</th>\n",
       "      <th>name_x</th>\n",
       "      <th>name_y</th>\n",
       "      <th>country</th>\n",
       "    </tr>\n",
       "  </thead>\n",
       "  <tbody>\n",
       "    <tr>\n",
       "      <th>174</th>\n",
       "      <td>6448.0</td>\n",
       "      <td>CO</td>\n",
       "      <td>Amazonas</td>\n",
       "      <td>NaN</td>\n",
       "      <td>Colombia</td>\n",
       "    </tr>\n",
       "  </tbody>\n",
       "</table>\n",
       "</div>"
      ],
      "text/plain": [
       "     length countrycode    name_x name_y   country\n",
       "174  6448.0          CO  Amazonas    NaN  Colombia"
      ]
     },
     "execution_count": 39,
     "metadata": {},
     "output_type": "execute_result"
    }
   ],
   "source": [
    "#  a) longest river,\n",
    "df_river=find_highest('river','length')\n",
    "df_river_country= df_river.merge(df_country, on='countrycode')\n",
    "df_river_country.sort_values('length',ascending=False).head(1)\n"
   ]
  },
  {
   "cell_type": "code",
   "execution_count": 40,
   "metadata": {},
   "outputs": [
    {
     "data": {
      "text/html": [
       "<div>\n",
       "<style>\n",
       "    .dataframe thead tr:only-child th {\n",
       "        text-align: right;\n",
       "    }\n",
       "\n",
       "    .dataframe thead th {\n",
       "        text-align: left;\n",
       "    }\n",
       "\n",
       "    .dataframe tbody tr th {\n",
       "        vertical-align: top;\n",
       "    }\n",
       "</style>\n",
       "<table border=\"1\" class=\"dataframe\">\n",
       "  <thead>\n",
       "    <tr style=\"text-align: right;\">\n",
       "      <th></th>\n",
       "      <th>area</th>\n",
       "      <th>countrycode</th>\n",
       "      <th>name_x</th>\n",
       "      <th>name_y</th>\n",
       "      <th>country</th>\n",
       "    </tr>\n",
       "  </thead>\n",
       "  <tbody>\n",
       "    <tr>\n",
       "      <th>47</th>\n",
       "      <td>386400.0</td>\n",
       "      <td>R</td>\n",
       "      <td>Caspian Sea</td>\n",
       "      <td>NaN</td>\n",
       "      <td>Russia</td>\n",
       "    </tr>\n",
       "  </tbody>\n",
       "</table>\n",
       "</div>"
      ],
      "text/plain": [
       "        area countrycode       name_x name_y country\n",
       "47  386400.0           R  Caspian Sea    NaN  Russia"
      ]
     },
     "execution_count": 40,
     "metadata": {},
     "output_type": "execute_result"
    }
   ],
   "source": [
    "#b) largest lake\n",
    "df_largestlake=find_highest('lake','area')\n",
    "df_largestlake_country= df_largestlake.merge(df_country, on='countrycode')\n",
    "df_largestlake_country.sort_values('area',ascending=False).head(1)"
   ]
  },
  {
   "cell_type": "code",
   "execution_count": null,
   "metadata": {
    "collapsed": true
   },
   "outputs": [],
   "source": []
  }
 ],
 "metadata": {
  "kernelspec": {
   "display_name": "Python 3",
   "language": "python",
   "name": "python3"
  },
  "language_info": {
   "codemirror_mode": {
    "name": "ipython",
    "version": 3
   },
   "file_extension": ".py",
   "mimetype": "text/x-python",
   "name": "python",
   "nbconvert_exporter": "python",
   "pygments_lexer": "ipython3",
   "version": "3.6.1"
  }
 },
 "nbformat": 4,
 "nbformat_minor": 1
}
